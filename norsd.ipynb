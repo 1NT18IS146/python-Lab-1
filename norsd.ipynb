{
 "cells": [
  {
   "cell_type": "code",
   "execution_count": 14,
   "metadata": {},
   "outputs": [
    {
     "name": "stdout",
     "output_type": "stream",
     "text": [
      "Enter no. of input: 5\n",
      "10\n",
      "9\n",
      "8\n",
      "7\n",
      "6\n",
      "\n",
      " Normalized values are: \n",
      "10 >> 1.0  \n",
      "9 >> 0.75  \n",
      "8 >> 0.5  \n",
      "7 >> 0.25  \n",
      "6 >> 0.0  \n"
     ]
    }
   ],
   "source": [
    "import math\n",
    "def nor():\n",
    "    n = int(input(\"Enter no. of input: \"))\n",
    "    l=[]\n",
    "    s=0\n",
    "    for i in range(n):\n",
    "        x=int(input())\n",
    "        \n",
    "        l.append(x)\n",
    "    mi= min(l)\n",
    "    mx=max(l)\n",
    "    d=mx-mi\n",
    "    print(\"\\n Normalized values are: \")\n",
    "    for i in range(n):\n",
    "        print(l[i],end=\" >> \")\n",
    "        l[i]=(l[i]-mi)/d\n",
    "        print(l[i],\" \")\n",
    "    \n",
    "nor()\n",
    "    "
   ]
  },
  {
   "cell_type": "code",
   "execution_count": 18,
   "metadata": {},
   "outputs": [
    {
     "name": "stdout",
     "output_type": "stream",
     "text": [
      "Enter no. of input: 5\n",
      "7\n",
      "4\n",
      "1\n",
      "5\n",
      "2\n",
      "sd is  2.3874672772626644 \n",
      "standardised values are:\n",
      "\n",
      "7 >> 1.3403325065334257\n",
      "4 >> 0.08377078165833918\n",
      "1 >> -1.1727909432167474\n",
      "5 >> 0.5026246899500347\n",
      "2 >> -0.7539370349250518\n"
     ]
    }
   ],
   "source": [
    "import math\n",
    "def standard():\n",
    "    n = int(input(\"Enter no. of input: \"))\n",
    "    l=[]\n",
    "    s=0\n",
    "    for i in range(n):\n",
    "        x=int(input())\n",
    "        \n",
    "        l.append(x)\n",
    "    l1=l.copy()\n",
    "    m=sum(l)/n\n",
    "    \n",
    "    for i in range(n):\n",
    "        l[i]=(l[i]-m)**2\n",
    "        s=s+l[i]\n",
    "    s=(s/(n-1))**(1/2)\n",
    "    print(\"sd is \",s,\"\\nstandardised values are:\\n\")\n",
    "    \n",
    "    for i in range(n):\n",
    "        print(l1[i],end=\" >> \")\n",
    "        l1[i]=(l1[i]-m)/s\n",
    "        print(l1[i])\n",
    "        \n",
    "        \n",
    "standard()"
   ]
  },
  {
   "cell_type": "code",
   "execution_count": null,
   "metadata": {},
   "outputs": [],
   "source": []
  }
 ],
 "metadata": {
  "kernelspec": {
   "display_name": "Python 3",
   "language": "python",
   "name": "python3"
  },
  "language_info": {
   "codemirror_mode": {
    "name": "ipython",
    "version": 3
   },
   "file_extension": ".py",
   "mimetype": "text/x-python",
   "name": "python",
   "nbconvert_exporter": "python",
   "pygments_lexer": "ipython3",
   "version": "3.8.10"
  }
 },
 "nbformat": 4,
 "nbformat_minor": 4
}
