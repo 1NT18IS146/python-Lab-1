{
 "cells": [
  {
   "cell_type": "code",
   "execution_count": 26,
   "metadata": {},
   "outputs": [
    {
     "name": "stdout",
     "output_type": "stream",
     "text": [
      "Enter no. of input: 5\n",
      "2\n",
      "3\n",
      "1\n",
      "4\n",
      "3\n",
      "mean is 2.6\n",
      "\n",
      "median is 3 \n",
      "\n",
      "variance & standard deviation is  1.3000000000000003   1.140175425099138\n"
     ]
    }
   ],
   "source": [
    "import math\n",
    "def fn():\n",
    "    n = int(input(\"Enter no. of input: \"))\n",
    "    l=[]\n",
    "    s=0\n",
    "    for i in range(n):\n",
    "        x=int(input())\n",
    "        \n",
    "        l.append(x)\n",
    "    \n",
    "    m=sum(l)/n\n",
    "    print(\"mean is \"+str(m)+\"\\n\")\n",
    "    l.sort()\n",
    "    \n",
    "    mid = math.ceil(n/2)\n",
    "    print(\"median is \"+str(l[mid-1]),\"\\n\")\n",
    "    for i in range(n):\n",
    "        l[i]=(l[i]-m)**2\n",
    "        s=s+l[i]\n",
    "    s=s/(n-1)\n",
    "    print(\"variance & standard deviation is \",s,\" \",s**(1/2))\n",
    "        \n",
    "        \n",
    "        \n",
    "        \n",
    "fn()"
   ]
  },
  {
   "cell_type": "code",
   "execution_count": null,
   "metadata": {},
   "outputs": [],
   "source": []
  },
  {
   "cell_type": "markdown",
   "metadata": {},
   "source": [
    "### 5\n"
   ]
  }
 ],
 "metadata": {
  "kernelspec": {
   "display_name": "Python 3",
   "language": "python",
   "name": "python3"
  },
  "language_info": {
   "codemirror_mode": {
    "name": "ipython",
    "version": 3
   },
   "file_extension": ".py",
   "mimetype": "text/x-python",
   "name": "python",
   "nbconvert_exporter": "python",
   "pygments_lexer": "ipython3",
   "version": "3.8.10"
  }
 },
 "nbformat": 4,
 "nbformat_minor": 4
}
